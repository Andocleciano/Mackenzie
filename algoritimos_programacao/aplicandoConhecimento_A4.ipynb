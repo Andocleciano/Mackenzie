{
 "cells": [
  {
   "cell_type": "code",
   "execution_count": null,
   "metadata": {},
   "outputs": [],
   "source": [
    "idade = int(input ('Digite a idade do atleta: '))\n",
    "\n",
    "if(idade <5):\n",
    "\tprint('Não tem idade para ser atleta')\n",
    "\n",
    "elif(idade <=7):\n",
    "\tprint('Infantil A')\n",
    "\n",
    "elif(idade <= 10):\n",
    "\tprint('Infantil B')\n",
    "\n",
    "elif(idade <= 13):\n",
    "\tprint('Juvenil A')\n",
    "\n",
    "elif(idade <= 17):\n",
    "\tprint('Juvenil B')\n",
    "\t\n",
    "else:\n",
    "\tprint('Sênior')"
   ]
  }
 ],
 "metadata": {
  "kernelspec": {
   "display_name": "Python 3",
   "language": "python",
   "name": "python3"
  },
  "language_info": {
   "codemirror_mode": {
    "name": "ipython",
    "version": 3
   },
   "file_extension": ".py",
   "mimetype": "text/x-python",
   "name": "python",
   "nbconvert_exporter": "python",
   "pygments_lexer": "ipython3",
   "version": "3.7.6"
  }
 },
 "nbformat": 4,
 "nbformat_minor": 4
}
